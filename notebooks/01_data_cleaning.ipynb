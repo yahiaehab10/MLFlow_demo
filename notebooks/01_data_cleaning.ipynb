{
 "cells": [
  {
   "cell_type": "markdown",
   "id": "e4fcbdcb",
   "metadata": {},
   "source": [
    "# 01 - Data Cleaning\n",
    "Load raw data, clean, and save processed data."
   ]
  },
  {
   "cell_type": "code",
   "execution_count": null,
   "id": "37aec2f5",
   "metadata": {},
   "outputs": [],
   "source": [
    "import dagshub\n",
    "dagshub.init(repo_owner='yahiaehab10', repo_name='MLflow_demo_MF', mlflow=True)"
   ]
  },
  {
   "cell_type": "code",
   "execution_count": null,
   "id": "35b9aabf",
   "metadata": {},
   "outputs": [],
   "source": [
    "from sklearn.datasets import load_iris\n",
    "import pandas as pd\n",
    "from src.data_quality import clean_data, save_data\n",
    "\n",
    "# Load and save raw data\n",
    "iris = load_iris(as_frame=True)\n",
    "df_raw = iris.frame.copy()\n",
    "df_raw['target'] = iris.target\n",
    "raw_path = '../data/raw/data.csv'\n",
    "df_raw.to_csv(raw_path, index=False)\n",
    "\n",
    "# Clean and save processed data\n",
    "df_clean = clean_data(df_raw)\n",
    "processed_path = '../data/processed/data.csv'\n",
    "save_data(df_clean, processed_path)\n",
    "print('Data cleaned and saved to', processed_path)"
   ]
  }
 ],
 "metadata": {
  "language_info": {
   "name": "python"
  }
 },
 "nbformat": 4,
 "nbformat_minor": 5
}
