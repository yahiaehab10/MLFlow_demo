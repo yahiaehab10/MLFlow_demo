{
 "cells": [
  {
   "cell_type": "markdown",
   "id": "90689a99",
   "metadata": {},
   "source": [
    "# 03 - Model Training\n",
    "Train model and log to MLflow, register model."
   ]
  },
  {
   "cell_type": "code",
   "execution_count": null,
   "id": "f06ad7a5",
   "metadata": {},
   "outputs": [],
   "source": [
    "import dagshub\n",
    "dagshub.init(repo_owner='yahiaehab10', repo_name='MLflow_demo_MF', mlflow=True)\n",
    "from src.train import train_model\n",
    "from src.evaluate import evaluate_model\n",
    "\n",
    "# Train and evaluate\n",
    "train_model()\n",
    "# Replace with actual run_id printed above\n",
    "run_id = 'YOUR_RUN_ID'\n",
    "evaluate_model(run_id)"
   ]
  }
 ],
 "metadata": {
  "language_info": {
   "name": "python"
  }
 },
 "nbformat": 4,
 "nbformat_minor": 5
}
