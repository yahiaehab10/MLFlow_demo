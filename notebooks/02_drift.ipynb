{
 "cells": [
  {
   "cell_type": "markdown",
   "id": "1275b3f9",
   "metadata": {},
   "source": [
    "# 02 - Drift Detection\n",
    "Generate and view drift report."
   ]
  },
  {
   "cell_type": "code",
   "execution_count": null,
   "id": "bc5d24e8",
   "metadata": {},
   "outputs": [],
   "source": [
    "import dagshub\n",
    "dagshub.init(repo_owner='yahiaehab10', repo_name='MLflow_demo_MF', mlflow=True)\n",
    "from src.drift_detection import save_baseline, generate_drift_report\n",
    "\n",
    "# Set paths\n",
    "base = '../data/drift_baseline/data.csv'\n",
    "curr = '../data/processed/data.csv'\n",
    "report = 'drift_report.html'\n",
    "\n",
    "# Save baseline and generate report\n",
    "save_baseline(curr, base)\n",
    "generate_drift_report(base, curr, report)\n",
    "print('Drift report generated at', report)"
   ]
  }
 ],
 "metadata": {
  "language_info": {
   "name": "python"
  }
 },
 "nbformat": 4,
 "nbformat_minor": 5
}
